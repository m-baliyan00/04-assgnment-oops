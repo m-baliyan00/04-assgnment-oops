{
 "cells": [
  {
   "cell_type": "raw",
   "id": "9649f512-0c86-4cc7-be76-af644dfbbb24",
   "metadata": {},
   "source": [
    "Q1, Create a vehicle class with an init method having instance variables as name_of_vehicle, max_speed\n",
    "and average_of_vehicle."
   ]
  },
  {
   "cell_type": "code",
   "execution_count": 1,
   "id": "29acc281-1657-4fe8-9453-a54d9bcfb242",
   "metadata": {},
   "outputs": [],
   "source": [
    "class vehicle:\n",
    "    \n",
    "    def __init__(self, vehicle_name, max_speed, average_of_vehicle):\n",
    "        self.vehicle = vehicle_name\n",
    "        self.top_speed = max_speed\n",
    "        self.milage = average_of_vehicle\n",
    "    \n",
    "    def get_vehicle_details(self):\n",
    "        return self.vehicle, self.top_speed, self.milage\n",
    "    \n",
    "    def get_car_name(self):\n",
    "        return self.vehicle\n",
    "    "
   ]
  },
  {
   "cell_type": "code",
   "execution_count": 2,
   "id": "ff4a34f5-aeb7-4633-b920-c99f0b4b9ad7",
   "metadata": {},
   "outputs": [],
   "source": [
    "car = vehicle(\"tata safari\", \"180kmph\", \"12kmpl\")"
   ]
  },
  {
   "cell_type": "code",
   "execution_count": 3,
   "id": "176ae427-31ce-4bae-8802-157c4b4210cf",
   "metadata": {},
   "outputs": [
    {
     "data": {
      "text/plain": [
       "('tata safari', '180kmph', '12kmpl')"
      ]
     },
     "execution_count": 3,
     "metadata": {},
     "output_type": "execute_result"
    }
   ],
   "source": [
    "car.get_vehicle_details()"
   ]
  },
  {
   "cell_type": "raw",
   "id": "4413c6fc-6ddd-4b84-a43f-56e84a652f1a",
   "metadata": {},
   "source": [
    "Q2. Create a child class car from the vehicle class created in Que 1, which will inherit the vehicle class.\n",
    "Create a method named seating_capacity which takes capacity as an argument and returns the name of\n",
    "the vehicle and its seating capacity."
   ]
  },
  {
   "cell_type": "code",
   "execution_count": 4,
   "id": "181d3685-c459-4086-b4a8-09a8b8ee6757",
   "metadata": {},
   "outputs": [
    {
     "name": "stdout",
     "output_type": "stream",
     "text": [
      "tata safari\n",
      "seating capicity =  4\n"
     ]
    }
   ],
   "source": [
    "class Car(vehicle):\n",
    "    def seating_capacity(self, capacity):\n",
    "        return  capacity\n",
    "    \n",
    "car = Car(\"tata safari\", \"180kmph\", \"12kmpl\")\n",
    "\n",
    "print(car.get_car_name())\n",
    "capacity_info = car.seating_capacity(4)\n",
    "print(\"seating capicity = \",capacity_info)\n"
   ]
  },
  {
   "cell_type": "raw",
   "id": "ab1cefb0-8a5d-4ffb-b659-08a711d95c18",
   "metadata": {},
   "source": [
    "Q3. What is multiple inheritance? Write a python code to demonstrate multiple inheritance."
   ]
  },
  {
   "cell_type": "code",
   "execution_count": 5,
   "id": "5f0023a3-e34e-4706-8d78-fd0e89c2382a",
   "metadata": {},
   "outputs": [],
   "source": [
    "class ravi1:\n",
    "    \n",
    "    def bad(self):\n",
    "        return \"ravi is bad boy\"\n",
    "    \n",
    "    def good(self):\n",
    "        return \"ravi is good boy\""
   ]
  },
  {
   "cell_type": "code",
   "execution_count": 6,
   "id": "7985d9d1-6308-4b0e-bd0a-4020e254a315",
   "metadata": {},
   "outputs": [],
   "source": [
    "class mahi:\n",
    "    \n",
    "    def bad1(self):\n",
    "        return \"mahi is bad girl\"\n",
    "    \n",
    "    def good2(self):\n",
    "        return \"mahi is a good girl\"    "
   ]
  },
  {
   "cell_type": "code",
   "execution_count": 7,
   "id": "862f28ee-51ae-4d64-8a75-3f6c4536705b",
   "metadata": {},
   "outputs": [],
   "source": [
    "class combo(ravi1,mahi):\n",
    "    pass"
   ]
  },
  {
   "cell_type": "code",
   "execution_count": 8,
   "id": "212b3897-aa46-4c5e-bcd9-be7a1adbf3a7",
   "metadata": {},
   "outputs": [],
   "source": [
    "obj = combo()"
   ]
  },
  {
   "cell_type": "code",
   "execution_count": 9,
   "id": "25fa4da3-f524-4e23-8505-dd2dee9196f1",
   "metadata": {},
   "outputs": [
    {
     "data": {
      "text/plain": [
       "'mahi is bad girl'"
      ]
     },
     "execution_count": 9,
     "metadata": {},
     "output_type": "execute_result"
    }
   ],
   "source": [
    "obj.bad1()"
   ]
  },
  {
   "cell_type": "code",
   "execution_count": 10,
   "id": "919f1a1a-e2da-4c37-bb0b-350d78053445",
   "metadata": {},
   "outputs": [
    {
     "data": {
      "text/plain": [
       "'ravi is bad boy'"
      ]
     },
     "execution_count": 10,
     "metadata": {},
     "output_type": "execute_result"
    }
   ],
   "source": [
    "obj.bad()"
   ]
  },
  {
   "cell_type": "raw",
   "id": "16f4085b-d2bd-48e1-b0f6-6b2691aae5fe",
   "metadata": {},
   "source": [
    "Q4. What are getter and setter in python? Create a class and create a getter and a setter method in this\n",
    "class."
   ]
  },
  {
   "cell_type": "code",
   "execution_count": 11,
   "id": "a792081c-0609-49ec-b4bd-aa0116733e6b",
   "metadata": {},
   "outputs": [],
   "source": [
    "class bike:\n",
    "    \n",
    "    def __init__(self, brand, name, top_speed, milage):\n",
    "        self.__brand = brand\n",
    "        self.__name = name\n",
    "        self.__top_speed = top_speed\n",
    "        self.__milage = milage\n",
    "        \n",
    "    def set_speed(self, speed):\n",
    "        self.__top_speed = 0 if speed < 0 else speed\n",
    "        \n",
    "    def get_speed(self):\n",
    "        return self.__top_speed\n",
    "        "
   ]
  },
  {
   "cell_type": "code",
   "execution_count": 12,
   "id": "63bee129-b060-450f-a500-540c1d4f638a",
   "metadata": {},
   "outputs": [],
   "source": [
    "r15 = bike(\"bajaj\",\"pulsar\", \"155kmph\", \"33kmpl\" )"
   ]
  },
  {
   "cell_type": "code",
   "execution_count": 13,
   "id": "4f5d7f21-34d5-4fec-87e5-5ac260ec5635",
   "metadata": {},
   "outputs": [
    {
     "data": {
      "text/plain": [
       "'155kmph'"
      ]
     },
     "execution_count": 13,
     "metadata": {},
     "output_type": "execute_result"
    }
   ],
   "source": [
    "r15.get_speed()"
   ]
  },
  {
   "cell_type": "code",
   "execution_count": 14,
   "id": "73825496-226c-4e5c-a251-4826e28e7953",
   "metadata": {},
   "outputs": [],
   "source": [
    "r15.set_speed(140)"
   ]
  },
  {
   "cell_type": "code",
   "execution_count": 15,
   "id": "c5e566ea-7188-454b-a138-d32e25041e0e",
   "metadata": {},
   "outputs": [
    {
     "data": {
      "text/plain": [
       "140"
      ]
     },
     "execution_count": 15,
     "metadata": {},
     "output_type": "execute_result"
    }
   ],
   "source": [
    "r15.get_speed()"
   ]
  },
  {
   "cell_type": "raw",
   "id": "f2cb34d7-34b6-4797-b0c1-d26226d96558",
   "metadata": {},
   "source": [
    "Q5.What is method overriding in python? Write a python code to demonstrate method overriding."
   ]
  },
  {
   "cell_type": "code",
   "execution_count": 16,
   "id": "a0b326c9-cae5-4a18-9dd1-67502c90685f",
   "metadata": {},
   "outputs": [],
   "source": [
    "class Parent():\n",
    "\n",
    "    def __init__(self):\n",
    "        self.vehicle = \"tata_safari\"\n",
    "        \n",
    "    def show(self):\n",
    "        print(self.vehicle)"
   ]
  },
  {
   "cell_type": "code",
   "execution_count": 17,
   "id": "380f6340-a9a4-437b-aac3-74541e7002ca",
   "metadata": {},
   "outputs": [],
   "source": [
    "class Child(Parent):\n",
    "\n",
    "    def __init__(self):\n",
    "        self.vehicle = \"bullet\"\n",
    "\n",
    "    def show(self):\n",
    "        print(self.vehicle)"
   ]
  },
  {
   "cell_type": "code",
   "execution_count": 18,
   "id": "cf9bda8d-365c-4784-bcb8-9033533e9a0e",
   "metadata": {},
   "outputs": [],
   "source": [
    "obj1 = Parent()\n",
    "obj2 = Child()"
   ]
  },
  {
   "cell_type": "code",
   "execution_count": 19,
   "id": "05fb2fde-ff85-433c-8040-3d21847fd818",
   "metadata": {},
   "outputs": [
    {
     "name": "stdout",
     "output_type": "stream",
     "text": [
      "tata_safari\n"
     ]
    }
   ],
   "source": [
    "obj1.show()"
   ]
  },
  {
   "cell_type": "code",
   "execution_count": 20,
   "id": "05d76d49-f0ce-4f35-92e3-e216790654da",
   "metadata": {},
   "outputs": [
    {
     "name": "stdout",
     "output_type": "stream",
     "text": [
      "bullet\n"
     ]
    }
   ],
   "source": [
    "obj2.show()"
   ]
  },
  {
   "cell_type": "code",
   "execution_count": null,
   "id": "38d4f2c7-7452-4420-a507-75801f98553a",
   "metadata": {},
   "outputs": [],
   "source": []
  }
 ],
 "metadata": {
  "kernelspec": {
   "display_name": "Python 3 (ipykernel)",
   "language": "python",
   "name": "python3"
  },
  "language_info": {
   "codemirror_mode": {
    "name": "ipython",
    "version": 3
   },
   "file_extension": ".py",
   "mimetype": "text/x-python",
   "name": "python",
   "nbconvert_exporter": "python",
   "pygments_lexer": "ipython3",
   "version": "3.10.8"
  }
 },
 "nbformat": 4,
 "nbformat_minor": 5
}
